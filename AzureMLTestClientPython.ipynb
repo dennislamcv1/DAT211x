{
 "cells": [
  {
   "cell_type": "code",
   "execution_count": 2,
   "metadata": {},
   "outputs": [
    {
     "name": "stdout",
     "output_type": "stream",
     "text": [
      "b'{\"Results\":{\"output1\":{\"type\":\"table\",\"value\":{\"ColumnNames\":[\"WallArea\",\"RoofArea\",\"OverallHeight\",\"GlazingArea\",\"HeatingLoad\",\"Scored Label Mean\",\"Scored Label Standard Deviation\"],\"ColumnTypes\":[\"Double\",\"Double\",\"Double\",\"Double\",\"Double\",\"Double\",\"Double\"],\"Values\":[[\"296\",\"110.25\",\"7\",\"0\",\"15.55\",\"0.482142857142857\",\"0.0691609440506184\"]]}}}}'\n"
     ]
    }
   ],
   "source": [
    "import urllib\n",
    "# If you are using Python 3+, import urllib instead of urllib2\n",
    "\n",
    "import json \n",
    "\n",
    "\n",
    "data =  {\n",
    "\n",
    "        \"Inputs\": {\n",
    "\n",
    "                \"input1\":\n",
    "                {\n",
    "                    \"ColumnNames\": [\"WallArea\", \"RoofArea\", \"OverallHeight\", \"GlazingArea\", \"HeatingLoad\"],\n",
    "                    \"Values\": [ [ \"296\", \"110.25\", \"7\", \"0\", \"15.55\" ] ]\n",
    "                },        },\n",
    "            \"GlobalParameters\": {\n",
    "}\n",
    "    }\n",
    "\n",
    "body = str.encode(json.dumps(data))\n",
    "\n",
    "url = 'https://ussouthcentral.services.azureml.net/workspaces/1efe31a848e449beb1437985f522a26f/services/484d569cc7f640e9b3abdf018b9b6f26/execute?api-version=2.0&details=true'\n",
    "api_key = 'TYkuMS+GxfasuPRUadIM6KuI/s6yG7LvEf3nyICLRw4p5aefAPF2LC5UXt4BIN4RaW5bn0aHkUtT5FnIk51vwA==' # Replace this with the API key for the web service\n",
    "headers = {'Content-Type':'application/json', 'Authorization':('Bearer '+ api_key)}\n",
    "\n",
    "req = urllib.request.Request(url, body, headers) \n",
    "\n",
    "try:\n",
    "    response = urllib.request.urlopen(req)\n",
    "\n",
    "    # If you are using Python 3+, replace urllib2 with urllib.request in the above code:\n",
    "    # req = urllib.request.Request(url, body, headers) \n",
    "    # response = urllib.request.urlopen(req)\n",
    "\n",
    "    result = response.read()\n",
    "    print(result) \n",
    "except urllib.HTTPError.error:\n",
    "    print(\"The request failed with status code: \" + str(error.code))\n",
    "\n",
    "    # Print the headers - they include the requert ID and the timestamp, which are useful for debugging the failure\n",
    "    print(error.info())\n",
    "\n",
    "    print(json.loads(error.read()))                 \n",
    "\n"
   ]
  },
  {
   "cell_type": "code",
   "execution_count": null,
   "metadata": {},
   "outputs": [],
   "source": []
  }
 ],
 "metadata": {
  "kernelspec": {
   "display_name": "Python 3",
   "language": "python",
   "name": "python3"
  },
  "language_info": {
   "codemirror_mode": {
    "name": "ipython",
    "version": 3
   },
   "file_extension": ".py",
   "mimetype": "text/x-python",
   "name": "python",
   "nbconvert_exporter": "python",
   "pygments_lexer": "ipython3",
   "version": "3.7.3"
  }
 },
 "nbformat": 4,
 "nbformat_minor": 2
}
